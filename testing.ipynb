{
 "cells": [
  {
   "cell_type": "code",
   "execution_count": 1,
   "id": "773d8829-9f34-43a7-9470-79bd0ea3b33a",
   "metadata": {},
   "outputs": [],
   "source": [
    "import altair as alt\n",
    "import pandas as pd\n",
    "import numpy as np\n",
    "import streamlit as st\n",
    "from vega_datasets import data"
   ]
  },
  {
   "cell_type": "code",
   "execution_count": 53,
   "id": "4ef8325e-febe-4529-8235-431369331d03",
   "metadata": {},
   "outputs": [],
   "source": [
    "#TEMPLATE TO GET TOTAL SINGLE FILES - stored in sub_datasets\n",
    "df1 = pd.read_csv('datasets/us_states_covid19_daily.csv')\n",
    "\n",
    "columns_to_show = ['positive', 'negative', 'hospitalizedCurrently','hospitalizedCumulative','state']\n",
    "df2 = df1.groupby([\"state\"])[columns_to_show].agg([np.max])\n",
    "\n",
    "total_positive = df2[['state', 'positive']].reset_index()\n",
    "total_positive.columns = ['State', 'drop', 'positive']\n",
    "total_positive = total_positive[['State', 'positive']]\n",
    "total_positive.index = np.arange(1, len(total_positive) + 1) #Makes index start from 1 instead of 0\n",
    "total_positive.to_csv('total_positive.csv')"
   ]
  },
  {
   "cell_type": "code",
   "execution_count": 54,
   "id": "60e5ff20-0aae-40a6-9a77-8938f8ca80db",
   "metadata": {},
   "outputs": [],
   "source": [
    "#CHOROPLETH TEMPLATE\n",
    "states = alt.topo_feature(data.us_10m.url, 'states')\n",
    "\n",
    "ch = pd.read_csv('sub_datasets/total_positive.csv')\n",
    "ch.columns = ['Index', 'State', 'Positive']\n",
    "\n",
    "#Creates the CH map\n",
    "ch_map = alt.Chart(states).mark_geoshape().encode(\n",
    "    color='Positive:Q',\n",
    "    tooltip=['id:O', 'Positive:Q']\n",
    ").transform_lookup(\n",
    "    lookup='id',\n",
    "    from_=alt.LookupData(ch, 'Index', ['Positive'])\n",
    ").project(\n",
    "    type='albersUsa'\n",
    ").properties(\n",
    "    width=600,\n",
    "    height=400\n",
    ")"
   ]
  },
  {
   "cell_type": "code",
   "execution_count": 55,
   "id": "7dd47fe8-05b4-43f4-bc4c-8a4073c7665a",
   "metadata": {},
   "outputs": [],
   "source": [
    "#ZIPPING FILE COMMAND: zip -r example.zip original_folder"
   ]
  },
  {
   "cell_type": "code",
   "execution_count": null,
   "id": "6f0a7617-e147-44f9-8f40-d1a0dab52a96",
   "metadata": {},
   "outputs": [],
   "source": []
  }
 ],
 "metadata": {
  "kernelspec": {
   "display_name": "Python 3 (ipykernel)",
   "language": "python",
   "name": "python3"
  },
  "language_info": {
   "codemirror_mode": {
    "name": "ipython",
    "version": 3
   },
   "file_extension": ".py",
   "mimetype": "text/x-python",
   "name": "python",
   "nbconvert_exporter": "python",
   "pygments_lexer": "ipython3",
   "version": "3.9.7"
  }
 },
 "nbformat": 4,
 "nbformat_minor": 5
}
